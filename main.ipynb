{
 "cells": [
  {
   "cell_type": "markdown",
   "metadata": {},
   "source": [
    "# YZV 411E - Big Data Analytics - Project - Flight Volume and Delay Analysis using Big Data Approach"
   ]
  },
  {
   "cell_type": "markdown",
   "metadata": {},
   "source": [
    "- Yusuf Faruk Güldemir - 150210302\n",
    "- Burak Ercan - 150220749\n",
    "- Emirhan Gazi - 150220757"
   ]
  },
  {
   "cell_type": "markdown",
   "metadata": {},
   "source": [
    "## Importing Libraries"
   ]
  },
  {
   "cell_type": "code",
   "execution_count": null,
   "metadata": {},
   "outputs": [],
   "source": [
    "from pyspark.sql import SparkSession\n",
    "from pyspark.sql.window import Window\n",
    "from pyspark.sql.functions import col, when, hour, month, dayofweek, isnull, count, mean, stddev, udf, to_date, avg, rank\n",
    "from pyspark.sql.types import IntegerType, FloatType, StringType, DoubleType\n",
    "from pyspark.ml.feature import StringIndexer, OneHotEncoder, VectorAssembler\n",
    "from pyspark.ml.classification import RandomForestClassifier\n",
    "from pyspark.ml import Pipeline\n",
    "from pyspark.ml.evaluation import MulticlassClassificationEvaluator\n",
    "\n",
    "import os\n",
    "import matplotlib.pyplot as plt\n",
    "\n",
    "from utils import *\n",
    "\n",
    "%reload_ext autoreload\n",
    "%autoreload 2"
   ]
  },
  {
   "cell_type": "markdown",
   "metadata": {},
   "source": [
    "## Spark Session Initialization"
   ]
  },
  {
   "cell_type": "code",
   "execution_count": null,
   "metadata": {},
   "outputs": [],
   "source": [
    "spark = (SparkSession.builder\n",
    "         .appName(\"YZV411E Project\")\n",
    "         .config(\"spark.driver.memory\", \"8g\")\n",
    "         .config(\"spark.executor.memory\", \"16g\")\n",
    "         .getOrCreate())"
   ]
  },
  {
   "cell_type": "code",
   "execution_count": null,
   "metadata": {},
   "outputs": [],
   "source": [
    "spark.version"
   ]
  },
  {
   "cell_type": "markdown",
   "metadata": {},
   "source": [
    "## Loading Data and Getting to Know the Data"
   ]
  },
  {
   "cell_type": "markdown",
   "metadata": {},
   "source": [
    "### 2016"
   ]
  },
  {
   "cell_type": "code",
   "execution_count": null,
   "metadata": {},
   "outputs": [
    {
     "name": "stderr",
     "output_type": "stream",
     "text": [
      "                                                                                \r"
     ]
    }
   ],
   "source": [
    "df_2016 = spark.read.csv(\"data/2016.csv\", header=True, inferSchema=True)"
   ]
  },
  {
   "cell_type": "code",
   "execution_count": null,
   "metadata": {},
   "outputs": [
    {
     "name": "stdout",
     "output_type": "stream",
     "text": [
      "root\n",
      " |-- FL_DATE: date (nullable = true)\n",
      " |-- OP_CARRIER: string (nullable = true)\n",
      " |-- OP_CARRIER_FL_NUM: integer (nullable = true)\n",
      " |-- ORIGIN: string (nullable = true)\n",
      " |-- DEST: string (nullable = true)\n",
      " |-- CRS_DEP_TIME: integer (nullable = true)\n",
      " |-- DEP_TIME: double (nullable = true)\n",
      " |-- DEP_DELAY: double (nullable = true)\n",
      " |-- TAXI_OUT: double (nullable = true)\n",
      " |-- WHEELS_OFF: double (nullable = true)\n",
      " |-- WHEELS_ON: double (nullable = true)\n",
      " |-- TAXI_IN: double (nullable = true)\n",
      " |-- CRS_ARR_TIME: integer (nullable = true)\n",
      " |-- ARR_TIME: double (nullable = true)\n",
      " |-- ARR_DELAY: double (nullable = true)\n",
      " |-- CANCELLED: double (nullable = true)\n",
      " |-- CANCELLATION_CODE: string (nullable = true)\n",
      " |-- DIVERTED: double (nullable = true)\n",
      " |-- CRS_ELAPSED_TIME: double (nullable = true)\n",
      " |-- ACTUAL_ELAPSED_TIME: double (nullable = true)\n",
      " |-- AIR_TIME: double (nullable = true)\n",
      " |-- DISTANCE: double (nullable = true)\n",
      " |-- CARRIER_DELAY: double (nullable = true)\n",
      " |-- WEATHER_DELAY: double (nullable = true)\n",
      " |-- NAS_DELAY: double (nullable = true)\n",
      " |-- SECURITY_DELAY: double (nullable = true)\n",
      " |-- LATE_AIRCRAFT_DELAY: double (nullable = true)\n",
      " |-- Unnamed: 27: string (nullable = true)\n",
      "\n",
      "--------------------------------------------------\n"
     ]
    },
    {
     "name": "stderr",
     "output_type": "stream",
     "text": [
      "25/01/04 22:58:54 WARN SparkStringUtils: Truncated the string representation of a plan since it was too large. This behavior can be adjusted by setting 'spark.sql.debug.maxToStringFields'.\n"
     ]
    },
    {
     "name": "stdout",
     "output_type": "stream",
     "text": [
      "+----------+----------+-----------------+------+----+------------+--------+---------+--------+----------+---------+-------+------------+--------+---------+---------+-----------------+--------+----------------+-------------------+--------+--------+-------------+-------------+---------+--------------+-------------------+-----------+\n",
      "|   FL_DATE|OP_CARRIER|OP_CARRIER_FL_NUM|ORIGIN|DEST|CRS_DEP_TIME|DEP_TIME|DEP_DELAY|TAXI_OUT|WHEELS_OFF|WHEELS_ON|TAXI_IN|CRS_ARR_TIME|ARR_TIME|ARR_DELAY|CANCELLED|CANCELLATION_CODE|DIVERTED|CRS_ELAPSED_TIME|ACTUAL_ELAPSED_TIME|AIR_TIME|DISTANCE|CARRIER_DELAY|WEATHER_DELAY|NAS_DELAY|SECURITY_DELAY|LATE_AIRCRAFT_DELAY|Unnamed: 27|\n",
      "+----------+----------+-----------------+------+----+------------+--------+---------+--------+----------+---------+-------+------------+--------+---------+---------+-----------------+--------+----------------+-------------------+--------+--------+-------------+-------------+---------+--------------+-------------------+-----------+\n",
      "|2016-01-01|        DL|             1248|   DTW| LAX|        1935|  1935.0|      0.0|    23.0|    1958.0|   2107.0|   13.0|        2144|  2120.0|    -24.0|      0.0|             NULL|     0.0|           309.0|              285.0|   249.0|  1979.0|         NULL|         NULL|     NULL|          NULL|               NULL|       NULL|\n",
      "|2016-01-01|        DL|             1251|   ATL| GRR|        2125|  2130.0|      5.0|    13.0|    2143.0|   2315.0|    4.0|        2321|  2319.0|     -2.0|      0.0|             NULL|     0.0|           116.0|              109.0|    92.0|   640.0|         NULL|         NULL|     NULL|          NULL|               NULL|       NULL|\n",
      "|2016-01-01|        DL|             1254|   LAX| ATL|        2255|  2256.0|      1.0|    19.0|    2315.0|    542.0|    5.0|         600|   547.0|    -13.0|      0.0|             NULL|     0.0|           245.0|              231.0|   207.0|  1947.0|         NULL|         NULL|     NULL|          NULL|               NULL|       NULL|\n",
      "|2016-01-01|        DL|             1255|   SLC| ATL|        1656|  1700.0|      4.0|    12.0|    1712.0|   2205.0|    8.0|        2229|  2213.0|    -16.0|      0.0|             NULL|     0.0|           213.0|              193.0|   173.0|  1590.0|         NULL|         NULL|     NULL|          NULL|               NULL|       NULL|\n",
      "|2016-01-01|        DL|             1256|   BZN| MSP|         900|  1012.0|     72.0|    63.0|    1115.0|   1416.0|    4.0|        1216|  1420.0|    124.0|      0.0|             NULL|     0.0|           136.0|              188.0|   121.0|   874.0|         72.0|          0.0|     52.0|           0.0|                0.0|       NULL|\n",
      "+----------+----------+-----------------+------+----+------------+--------+---------+--------+----------+---------+-------+------------+--------+---------+---------+-----------------+--------+----------------+-------------------+--------+--------+-------------+-------------+---------+--------------+-------------------+-----------+\n",
      "only showing top 5 rows\n",
      "\n",
      "--------------------------------------------------\n"
     ]
    },
    {
     "name": "stderr",
     "output_type": "stream",
     "text": [
      "[Stage 3:============================================>              (6 + 2) / 8]\r"
     ]
    },
    {
     "name": "stdout",
     "output_type": "stream",
     "text": [
      "+-------+----------+------------------+-------+-------+-----------------+------------------+-----------------+-----------------+-----------------+------------------+-----------------+------------------+-----------------+------------------+--------------------+-----------------+--------------------+------------------+-------------------+------------------+-----------------+-----------------+------------------+------------------+-------------------+-------------------+-----------+\n",
      "|summary|OP_CARRIER| OP_CARRIER_FL_NUM| ORIGIN|   DEST|     CRS_DEP_TIME|          DEP_TIME|        DEP_DELAY|         TAXI_OUT|       WHEELS_OFF|         WHEELS_ON|          TAXI_IN|      CRS_ARR_TIME|         ARR_TIME|         ARR_DELAY|           CANCELLED|CANCELLATION_CODE|            DIVERTED|  CRS_ELAPSED_TIME|ACTUAL_ELAPSED_TIME|          AIR_TIME|         DISTANCE|    CARRIER_DELAY|     WEATHER_DELAY|         NAS_DELAY|     SECURITY_DELAY|LATE_AIRCRAFT_DELAY|Unnamed: 27|\n",
      "+-------+----------+------------------+-------+-------+-----------------+------------------+-----------------+-----------------+-----------------+------------------+-----------------+------------------+-----------------+------------------+--------------------+-----------------+--------------------+------------------+-------------------+------------------+-----------------+-----------------+------------------+------------------+-------------------+-------------------+-----------+\n",
      "|  count|   5617658|           5617658|5617658|5617658|          5617658|           5554202|          5554202|          5552240|          5552240|           5549814|          5549814|           5617658|          5549814|           5538145|             5617658|            65861|             5617658|           5617652|            5538145|           5538145|          5617658|           964239|            964239|            964239|             964239|             964239|          0|\n",
      "|   mean|      NULL| 2078.519747553162|   NULL|   NULL|1331.003754411536|  1333.64041315026|8.938010536887207|16.19104757719407|1355.111930320015|1467.2643295793337|7.454353425177853|1490.8187940597309|1471.569964867291|3.5192899427515894|0.011723924809947491|             NULL|0.002430194219726441|145.39706891776137| 140.16078867563056|116.52680274712922|850.0785813233914|20.25777530259614| 2.702735525113587|14.696166614293759|0.08496337526277199| 24.328406131674825|       NULL|\n",
      "| stddev|      NULL|1700.4165104113774|   NULL|   NULL|489.5841806502454|502.51290932106804|39.76306445484826|8.827187880483853|504.3022449397525| 530.2217425144845| 5.70044146266337| 516.2846889273159|534.6745678044692| 41.87331683749174| 0.10764049637338348|             NULL| 0.04923706741194893| 76.42797879077824|  75.66282676521725| 73.52773176983209|619.5001373392853|57.34127480825142|21.394474887063843|30.584197418227667|  2.419614050708662|   45.9631774661103|       NULL|\n",
      "|    min|        AA|                 1|    ABE|    ABE|                1|               1.0|           -204.0|              1.0|              1.0|               1.0|              1.0|                 1|              1.0|            -152.0|                 0.0|                A|                 0.0|               5.0|               14.0|               4.0|             25.0|              0.0|               0.0|               0.0|                0.0|                0.0|       NULL|\n",
      "|    max|        WN|              8402|    YUM|    YUM|             2359|            2400.0|           2149.0|            186.0|           2400.0|            2400.0|            250.0|              2400|           2400.0|            2142.0|                 1.0|                D|                 1.0|             705.0|              778.0|             723.0|           4983.0|           2142.0|            1157.0|            1446.0|              474.0|             1484.0|       NULL|\n",
      "+-------+----------+------------------+-------+-------+-----------------+------------------+-----------------+-----------------+-----------------+------------------+-----------------+------------------+-----------------+------------------+--------------------+-----------------+--------------------+------------------+-------------------+------------------+-----------------+-----------------+------------------+------------------+-------------------+-------------------+-----------+\n",
      "\n",
      "--------------------------------------------------\n"
     ]
    },
    {
     "name": "stderr",
     "output_type": "stream",
     "text": [
      "                                                                                \r"
     ]
    }
   ],
   "source": [
    "df_2016.printSchema()\n",
    "print(\"-\"*50)\n",
    "df_2016.show(5)\n",
    "print(\"-\"*50)\n",
    "df_2016.describe().show()\n",
    "print(\"-\"*50)"
   ]
  },
  {
   "cell_type": "code",
   "execution_count": null,
   "metadata": {},
   "outputs": [
    {
     "name": "stderr",
     "output_type": "stream",
     "text": [
      "[Stage 15:>                                                         (0 + 1) / 1]\r"
     ]
    },
    {
     "name": "stdout",
     "output_type": "stream",
     "text": [
      "+-------------------+----------+---------------+\n",
      "|             Column|Null Count|Null Percentage|\n",
      "+-------------------+----------+---------------+\n",
      "|            FL_DATE|         0|            0.0|\n",
      "|         OP_CARRIER|         0|            0.0|\n",
      "|  OP_CARRIER_FL_NUM|         0|            0.0|\n",
      "|             ORIGIN|         0|            0.0|\n",
      "|               DEST|         0|            0.0|\n",
      "|       CRS_DEP_TIME|         0|            0.0|\n",
      "|           DEP_TIME|     63456|           1.13|\n",
      "|          DEP_DELAY|     63456|           1.13|\n",
      "|           TAXI_OUT|     65418|           1.16|\n",
      "|         WHEELS_OFF|     65418|           1.16|\n",
      "|          WHEELS_ON|     67844|           1.21|\n",
      "|            TAXI_IN|     67844|           1.21|\n",
      "|       CRS_ARR_TIME|         0|            0.0|\n",
      "|           ARR_TIME|     67844|           1.21|\n",
      "|          ARR_DELAY|     79513|           1.42|\n",
      "|          CANCELLED|         0|            0.0|\n",
      "|  CANCELLATION_CODE|   5551797|          98.83|\n",
      "|           DIVERTED|         0|            0.0|\n",
      "|   CRS_ELAPSED_TIME|         6|            0.0|\n",
      "|ACTUAL_ELAPSED_TIME|     79513|           1.42|\n",
      "+-------------------+----------+---------------+\n",
      "only showing top 20 rows\n",
      "\n"
     ]
    },
    {
     "name": "stderr",
     "output_type": "stream",
     "text": [
      "                                                                                \r"
     ]
    }
   ],
   "source": [
    "summary_df_2016 = calculate_null_statistics(spark, df_2016)\n",
    "summary_df_2016.show()"
   ]
  },
  {
   "cell_type": "markdown",
   "metadata": {},
   "source": [
    "### 2017"
   ]
  },
  {
   "cell_type": "code",
   "execution_count": null,
   "metadata": {},
   "outputs": [],
   "source": [
    "df_2017 = spark.read.csv(\"data/2017.csv\", header=True, inferSchema=True)"
   ]
  },
  {
   "cell_type": "code",
   "execution_count": null,
   "metadata": {},
   "outputs": [
    {
     "name": "stdout",
     "output_type": "stream",
     "text": [
      "root\n",
      " |-- FL_DATE: date (nullable = true)\n",
      " |-- OP_CARRIER: string (nullable = true)\n",
      " |-- OP_CARRIER_FL_NUM: integer (nullable = true)\n",
      " |-- ORIGIN: string (nullable = true)\n",
      " |-- DEST: string (nullable = true)\n",
      " |-- CRS_DEP_TIME: integer (nullable = true)\n",
      " |-- DEP_TIME: double (nullable = true)\n",
      " |-- DEP_DELAY: double (nullable = true)\n",
      " |-- TAXI_OUT: double (nullable = true)\n",
      " |-- WHEELS_OFF: double (nullable = true)\n",
      " |-- WHEELS_ON: double (nullable = true)\n",
      " |-- TAXI_IN: double (nullable = true)\n",
      " |-- CRS_ARR_TIME: integer (nullable = true)\n",
      " |-- ARR_TIME: double (nullable = true)\n",
      " |-- ARR_DELAY: double (nullable = true)\n",
      " |-- CANCELLED: double (nullable = true)\n",
      " |-- CANCELLATION_CODE: string (nullable = true)\n",
      " |-- DIVERTED: double (nullable = true)\n",
      " |-- CRS_ELAPSED_TIME: double (nullable = true)\n",
      " |-- ACTUAL_ELAPSED_TIME: double (nullable = true)\n",
      " |-- AIR_TIME: double (nullable = true)\n",
      " |-- DISTANCE: double (nullable = true)\n",
      " |-- CARRIER_DELAY: double (nullable = true)\n",
      " |-- WEATHER_DELAY: double (nullable = true)\n",
      " |-- NAS_DELAY: double (nullable = true)\n",
      " |-- SECURITY_DELAY: double (nullable = true)\n",
      " |-- LATE_AIRCRAFT_DELAY: double (nullable = true)\n",
      " |-- Unnamed: 27: string (nullable = true)\n",
      "\n",
      "--------------------------------------------------\n",
      "+----------+----------+-----------------+------+----+------------+--------+---------+--------+----------+---------+-------+------------+--------+---------+---------+-----------------+--------+----------------+-------------------+--------+--------+-------------+-------------+---------+--------------+-------------------+-----------+\n",
      "|   FL_DATE|OP_CARRIER|OP_CARRIER_FL_NUM|ORIGIN|DEST|CRS_DEP_TIME|DEP_TIME|DEP_DELAY|TAXI_OUT|WHEELS_OFF|WHEELS_ON|TAXI_IN|CRS_ARR_TIME|ARR_TIME|ARR_DELAY|CANCELLED|CANCELLATION_CODE|DIVERTED|CRS_ELAPSED_TIME|ACTUAL_ELAPSED_TIME|AIR_TIME|DISTANCE|CARRIER_DELAY|WEATHER_DELAY|NAS_DELAY|SECURITY_DELAY|LATE_AIRCRAFT_DELAY|Unnamed: 27|\n",
      "+----------+----------+-----------------+------+----+------------+--------+---------+--------+----------+---------+-------+------------+--------+---------+---------+-----------------+--------+----------------+-------------------+--------+--------+-------------+-------------+---------+--------------+-------------------+-----------+\n",
      "|2017-01-01|        AA|                1|   JFK| LAX|         800|   831.0|     31.0|    25.0|     856.0|   1143.0|   26.0|        1142|  1209.0|     27.0|      0.0|             NULL|     0.0|           402.0|              398.0|   347.0|  2475.0|         27.0|          0.0|      0.0|           0.0|                0.0|       NULL|\n",
      "|2017-01-01|        AA|                2|   LAX| JFK|         900|   934.0|     34.0|    34.0|    1008.0|   1757.0|   12.0|        1727|  1809.0|     42.0|      0.0|             NULL|     0.0|           327.0|              335.0|   289.0|  2475.0|         34.0|          0.0|      8.0|           0.0|                0.0|       NULL|\n",
      "|2017-01-01|        AA|                4|   LAX| JFK|        1130|  1221.0|     51.0|    20.0|    1241.0|   2025.0|   15.0|        1958|  2040.0|     42.0|      0.0|             NULL|     0.0|           328.0|              319.0|   284.0|  2475.0|          7.0|          0.0|      0.0|           0.0|               35.0|       NULL|\n",
      "|2017-01-01|        AA|                5|   DFW| HNL|        1135|  1252.0|     77.0|    19.0|    1311.0|   1744.0|    5.0|        1612|  1749.0|     97.0|      0.0|             NULL|     0.0|           517.0|              537.0|   513.0|  3784.0|         77.0|          0.0|     20.0|           0.0|                0.0|       NULL|\n",
      "|2017-01-01|        AA|                6|   OGG| DFW|        1855|  1855.0|      0.0|    16.0|    1911.0|    631.0|   11.0|         600|   642.0|     42.0|      0.0|             NULL|     0.0|           425.0|              467.0|   440.0|  3711.0|          0.0|          0.0|     42.0|           0.0|                0.0|       NULL|\n",
      "+----------+----------+-----------------+------+----+------------+--------+---------+--------+----------+---------+-------+------------+--------+---------+---------+-----------------+--------+----------------+-------------------+--------+--------+-------------+-------------+---------+--------------+-------------------+-----------+\n",
      "only showing top 5 rows\n",
      "\n",
      "--------------------------------------------------\n"
     ]
    },
    {
     "name": "stderr",
     "output_type": "stream",
     "text": [
      "[Stage 21:=====================>                                    (3 + 5) / 8]\r"
     ]
    },
    {
     "name": "stdout",
     "output_type": "stream",
     "text": [
      "+-------+----------+-----------------+-------+-------+------------------+------------------+-----------------+------------------+------------------+------------------+-----------------+-----------------+------------------+-----------------+--------------------+-----------------+--------------------+-----------------+-------------------+------------------+-----------------+-----------------+------------------+------------------+-------------------+-------------------+-----------+\n",
      "|summary|OP_CARRIER|OP_CARRIER_FL_NUM| ORIGIN|   DEST|      CRS_DEP_TIME|          DEP_TIME|        DEP_DELAY|          TAXI_OUT|        WHEELS_OFF|         WHEELS_ON|          TAXI_IN|     CRS_ARR_TIME|          ARR_TIME|        ARR_DELAY|           CANCELLED|CANCELLATION_CODE|            DIVERTED| CRS_ELAPSED_TIME|ACTUAL_ELAPSED_TIME|          AIR_TIME|         DISTANCE|    CARRIER_DELAY|     WEATHER_DELAY|         NAS_DELAY|     SECURITY_DELAY|LATE_AIRCRAFT_DELAY|Unnamed: 27|\n",
      "+-------+----------+-----------------+-------+-------+------------------+------------------+-----------------+------------------+------------------+------------------+-----------------+-----------------+------------------+-----------------+--------------------+-----------------+--------------------+-----------------+-------------------+------------------+-----------------+-----------------+------------------+------------------+-------------------+-------------------+-----------+\n",
      "|  count|   5674621|          5674621|5674621|5674621|           5674621|           5594313|          5594278|           5592476|           5592480|           5589947|          5589947|          5674621|           5589947|          5579410|             5674621|            82693|             5674621|          5674614|            5579410|           5579410|          5674621|          1029473|           1029473|           1029473|            1029473|            1029473|          0|\n",
      "|   mean|      NULL|2143.448706442245|   NULL|   NULL|1329.9688317510545|1333.7043910485525|9.725734044679225|16.779941836138413| 1355.793696714159|1464.5789432350612|7.507610179488285|1489.307597635155|1468.8807054879053|  4.3263569087054|0.014572426951509185|             NULL|0.002208076979942...|146.9927898179506| 141.76242882311928|117.48560080725382|856.6891089290368|19.92932500415261|  2.71960410812134|16.028382483076292|0.09147398717596285|  25.16342827835213|       NULL|\n",
      "| stddev|      NULL|1737.461888871388|   NULL|   NULL|490.93756967830456|504.39871426708044|43.86589559381162| 9.365385146459353|506.22274890648225| 534.0316018987852|5.913152302293248|519.0175117349498| 538.3983554545714|45.86481472307032|  0.1198335255879192|             NULL| 0.04693827611074755|  77.121347330381|  76.66671909787844| 74.27620792328734|624.4881068394474|62.27602198549048|24.343023534345335| 35.90292397192288| 3.0280547743128157|  47.71768770231461|       NULL|\n",
      "|    min|        AA|                1|    ABE|    ABE|                 1|               1.0|           -234.0|               0.0|               1.0|               1.0|              0.0|                1|               1.0|           -238.0|                 0.0|                A|                 0.0|              1.0|               15.0|               7.0|             31.0|              0.0|               0.0|               0.0|                0.0|                0.0|       NULL|\n",
      "|    max|        WN|             8402|    YUM|    YUM|              2359|            2400.0|           2755.0|             183.0|            2400.0|            2400.0|            414.0|             2359|            2400.0|           2189.0|                 1.0|                D|                 1.0|            718.0|              784.0|             712.0|           4983.0|           1934.0|            1934.0|            1605.0|              827.0|             1756.0|       NULL|\n",
      "+-------+----------+-----------------+-------+-------+------------------+------------------+-----------------+------------------+------------------+------------------+-----------------+-----------------+------------------+-----------------+--------------------+-----------------+--------------------+-----------------+-------------------+------------------+-----------------+-----------------+------------------+------------------+-------------------+-------------------+-----------+\n",
      "\n",
      "--------------------------------------------------\n"
     ]
    },
    {
     "name": "stderr",
     "output_type": "stream",
     "text": [
      "                                                                                \r"
     ]
    }
   ],
   "source": [
    "df_2017.printSchema()\n",
    "print(\"-\"*50)\n",
    "df_2017.show(5)\n",
    "print(\"-\"*50)\n",
    "df_2017.describe().show()\n",
    "print(\"-\"*50)"
   ]
  },
  {
   "cell_type": "code",
   "execution_count": null,
   "metadata": {},
   "outputs": [
    {
     "name": "stderr",
     "output_type": "stream",
     "text": [
      "                                                                                \r"
     ]
    },
    {
     "name": "stdout",
     "output_type": "stream",
     "text": [
      "+-------------------+----------+---------------+\n",
      "|             Column|Null Count|Null Percentage|\n",
      "+-------------------+----------+---------------+\n",
      "|            FL_DATE|         0|            0.0|\n",
      "|         OP_CARRIER|         0|            0.0|\n",
      "|  OP_CARRIER_FL_NUM|         0|            0.0|\n",
      "|             ORIGIN|         0|            0.0|\n",
      "|               DEST|         0|            0.0|\n",
      "|       CRS_DEP_TIME|         0|            0.0|\n",
      "|           DEP_TIME|     80308|           1.42|\n",
      "|          DEP_DELAY|     80343|           1.42|\n",
      "|           TAXI_OUT|     82145|           1.45|\n",
      "|         WHEELS_OFF|     82141|           1.45|\n",
      "|          WHEELS_ON|     84674|           1.49|\n",
      "|            TAXI_IN|     84674|           1.49|\n",
      "|       CRS_ARR_TIME|         0|            0.0|\n",
      "|           ARR_TIME|     84674|           1.49|\n",
      "|          ARR_DELAY|     95211|           1.68|\n",
      "|          CANCELLED|         0|            0.0|\n",
      "|  CANCELLATION_CODE|   5591928|          98.54|\n",
      "|           DIVERTED|         0|            0.0|\n",
      "|   CRS_ELAPSED_TIME|         7|            0.0|\n",
      "|ACTUAL_ELAPSED_TIME|     95211|           1.68|\n",
      "+-------------------+----------+---------------+\n",
      "only showing top 20 rows\n",
      "\n"
     ]
    }
   ],
   "source": [
    "summary_df_2017 = calculate_null_statistics(spark, df_2017)\n",
    "summary_df_2017.show()"
   ]
  },
  {
   "cell_type": "markdown",
   "metadata": {},
   "source": [
    "### 2018"
   ]
  },
  {
   "cell_type": "code",
   "execution_count": null,
   "metadata": {},
   "outputs": [
    {
     "name": "stderr",
     "output_type": "stream",
     "text": [
      "                                                                                \r"
     ]
    }
   ],
   "source": [
    "df_2018 = spark.read.csv(\"data/2018.csv\", header=True, inferSchema=True)"
   ]
  },
  {
   "cell_type": "code",
   "execution_count": null,
   "metadata": {},
   "outputs": [
    {
     "name": "stdout",
     "output_type": "stream",
     "text": [
      "root\n",
      " |-- FL_DATE: date (nullable = true)\n",
      " |-- OP_CARRIER: string (nullable = true)\n",
      " |-- OP_CARRIER_FL_NUM: integer (nullable = true)\n",
      " |-- ORIGIN: string (nullable = true)\n",
      " |-- DEST: string (nullable = true)\n",
      " |-- CRS_DEP_TIME: integer (nullable = true)\n",
      " |-- DEP_TIME: double (nullable = true)\n",
      " |-- DEP_DELAY: double (nullable = true)\n",
      " |-- TAXI_OUT: double (nullable = true)\n",
      " |-- WHEELS_OFF: double (nullable = true)\n",
      " |-- WHEELS_ON: double (nullable = true)\n",
      " |-- TAXI_IN: double (nullable = true)\n",
      " |-- CRS_ARR_TIME: integer (nullable = true)\n",
      " |-- ARR_TIME: double (nullable = true)\n",
      " |-- ARR_DELAY: double (nullable = true)\n",
      " |-- CANCELLED: double (nullable = true)\n",
      " |-- CANCELLATION_CODE: string (nullable = true)\n",
      " |-- DIVERTED: double (nullable = true)\n",
      " |-- CRS_ELAPSED_TIME: double (nullable = true)\n",
      " |-- ACTUAL_ELAPSED_TIME: double (nullable = true)\n",
      " |-- AIR_TIME: double (nullable = true)\n",
      " |-- DISTANCE: double (nullable = true)\n",
      " |-- CARRIER_DELAY: double (nullable = true)\n",
      " |-- WEATHER_DELAY: double (nullable = true)\n",
      " |-- NAS_DELAY: double (nullable = true)\n",
      " |-- SECURITY_DELAY: double (nullable = true)\n",
      " |-- LATE_AIRCRAFT_DELAY: double (nullable = true)\n",
      " |-- Unnamed: 27: string (nullable = true)\n",
      "\n",
      "--------------------------------------------------\n",
      "+----------+----------+-----------------+------+----+------------+--------+---------+--------+----------+---------+-------+------------+--------+---------+---------+-----------------+--------+----------------+-------------------+--------+--------+-------------+-------------+---------+--------------+-------------------+-----------+\n",
      "|   FL_DATE|OP_CARRIER|OP_CARRIER_FL_NUM|ORIGIN|DEST|CRS_DEP_TIME|DEP_TIME|DEP_DELAY|TAXI_OUT|WHEELS_OFF|WHEELS_ON|TAXI_IN|CRS_ARR_TIME|ARR_TIME|ARR_DELAY|CANCELLED|CANCELLATION_CODE|DIVERTED|CRS_ELAPSED_TIME|ACTUAL_ELAPSED_TIME|AIR_TIME|DISTANCE|CARRIER_DELAY|WEATHER_DELAY|NAS_DELAY|SECURITY_DELAY|LATE_AIRCRAFT_DELAY|Unnamed: 27|\n",
      "+----------+----------+-----------------+------+----+------------+--------+---------+--------+----------+---------+-------+------------+--------+---------+---------+-----------------+--------+----------------+-------------------+--------+--------+-------------+-------------+---------+--------------+-------------------+-----------+\n",
      "|2018-01-01|        UA|             2429|   EWR| DEN|        1517|  1512.0|     -5.0|    15.0|    1527.0|   1712.0|   10.0|        1745|  1722.0|    -23.0|      0.0|             NULL|     0.0|           268.0|              250.0|   225.0|  1605.0|         NULL|         NULL|     NULL|          NULL|               NULL|       NULL|\n",
      "|2018-01-01|        UA|             2427|   LAS| SFO|        1115|  1107.0|     -8.0|    11.0|    1118.0|   1223.0|    7.0|        1254|  1230.0|    -24.0|      0.0|             NULL|     0.0|            99.0|               83.0|    65.0|   414.0|         NULL|         NULL|     NULL|          NULL|               NULL|       NULL|\n",
      "|2018-01-01|        UA|             2426|   SNA| DEN|        1335|  1330.0|     -5.0|    15.0|    1345.0|   1631.0|    5.0|        1649|  1636.0|    -13.0|      0.0|             NULL|     0.0|           134.0|              126.0|   106.0|   846.0|         NULL|         NULL|     NULL|          NULL|               NULL|       NULL|\n",
      "|2018-01-01|        UA|             2425|   RSW| ORD|        1546|  1552.0|      6.0|    19.0|    1611.0|   1748.0|    6.0|        1756|  1754.0|     -2.0|      0.0|             NULL|     0.0|           190.0|              182.0|   157.0|  1120.0|         NULL|         NULL|     NULL|          NULL|               NULL|       NULL|\n",
      "|2018-01-01|        UA|             2424|   ORD| ALB|         630|   650.0|     20.0|    13.0|     703.0|    926.0|   10.0|         922|   936.0|     14.0|      0.0|             NULL|     0.0|           112.0|              106.0|    83.0|   723.0|         NULL|         NULL|     NULL|          NULL|               NULL|       NULL|\n",
      "+----------+----------+-----------------+------+----+------------+--------+---------+--------+----------+---------+-------+------------+--------+---------+---------+-----------------+--------+----------------+-------------------+--------+--------+-------------+-------------+---------+--------------+-------------------+-----------+\n",
      "only showing top 5 rows\n",
      "\n",
      "--------------------------------------------------\n"
     ]
    },
    {
     "name": "stderr",
     "output_type": "stream",
     "text": [
      "[Stage 39:====================================>                     (5 + 3) / 8]\r"
     ]
    },
    {
     "name": "stdout",
     "output_type": "stream",
     "text": [
      "+-------+----------+------------------+-------+-------+------------------+------------------+------------------+------------------+------------------+----------------+------------------+-----------------+-----------------+-----------------+-------------------+-----------------+--------------------+------------------+-------------------+------------------+-----------------+-----------------+------------------+------------------+-------------------+-------------------+-----------+\n",
      "|summary|OP_CARRIER| OP_CARRIER_FL_NUM| ORIGIN|   DEST|      CRS_DEP_TIME|          DEP_TIME|         DEP_DELAY|          TAXI_OUT|        WHEELS_OFF|       WHEELS_ON|           TAXI_IN|     CRS_ARR_TIME|         ARR_TIME|        ARR_DELAY|          CANCELLED|CANCELLATION_CODE|            DIVERTED|  CRS_ELAPSED_TIME|ACTUAL_ELAPSED_TIME|          AIR_TIME|         DISTANCE|    CARRIER_DELAY|     WEATHER_DELAY|         NAS_DELAY|     SECURITY_DELAY|LATE_AIRCRAFT_DELAY|Unnamed: 27|\n",
      "+-------+----------+------------------+-------+-------+------------------+------------------+------------------+------------------+------------------+----------------+------------------+-----------------+-----------------+-----------------+-------------------+-----------------+--------------------+------------------+-------------------+------------------+-----------------+-----------------+------------------+------------------+-------------------+-------------------+-----------+\n",
      "|  count|   7213446|           7213446|7213446|7213446|           7213446|           7101129|           7096212|           7097616|           7097617|         7094200|           7094200|          7213446|          7094201|          7076406|            7213446|           116584|             7213446|           7213436|            7079004|           7079004|          7213446|          1352710|           1352710|           1352710|            1352710|            1352710|          0|\n",
      "|   mean|      NULL|2607.5313346769353|   NULL|   NULL|1329.6870178275403|1333.8538055005056| 9.969858425875664|17.410614211870577|1357.7988777078278|1462.16200896507|7.6012458064334245|1486.341099108526|1466.784165123035|5.048580875659198|0.01616203961324449|             NULL|0.002475793123009...|141.13564825417458| 136.49993840941465|111.50204831075106|799.9894896281195|19.45500587709117|3.6364594037155045|15.885470647810692|0.09353889599396767| 25.644120321428836|       NULL|\n",
      "| stddev|      NULL| 1860.122264785821|   NULL|   NULL|490.93198153816377|  504.505548354291|44.829640764696066| 9.920409137661997| 505.9721357277283|533.467515631559|  6.06479676259217|518.3124279417899|537.7089238292796|46.92663680431202|0.12609849441256799|             NULL|0.049695713233547864| 73.34433198485563|  73.13757750146281|  71.1129267060724|598.1782877555341|58.90811936652012|29.996006444414093| 35.89349661598214|  3.174306217587661|  49.78776094095917|       NULL|\n",
      "|    min|        9E|                 1|    ABE|    ABE|                 1|               1.0|            -122.0|               1.0|               1.0|             1.0|               1.0|                1|              1.0|           -120.0|                0.0|                A|                 0.0|             -99.0|               14.0|               7.0|             31.0|              0.0|               0.0|               0.0|                0.0|                0.0|       NULL|\n",
      "|    max|        YX|              7909|    YUM|    YUM|              2359|            2400.0|            2710.0|             196.0|            2400.0|          2400.0|             259.0|             2400|           2400.0|           2692.0|                1.0|                D|                 1.0|             704.0|              757.0|             696.0|           4983.0|           2109.0|            2692.0|            1848.0|              987.0|             2454.0|       NULL|\n",
      "+-------+----------+------------------+-------+-------+------------------+------------------+------------------+------------------+------------------+----------------+------------------+-----------------+-----------------+-----------------+-------------------+-----------------+--------------------+------------------+-------------------+------------------+-----------------+-----------------+------------------+------------------+-------------------+-------------------+-----------+\n",
      "\n",
      "--------------------------------------------------\n"
     ]
    },
    {
     "name": "stderr",
     "output_type": "stream",
     "text": [
      "                                                                                \r"
     ]
    }
   ],
   "source": [
    "df_2018.printSchema()\n",
    "print(\"-\"*50)\n",
    "df_2018.show(5)\n",
    "print(\"-\"*50)\n",
    "df_2018.describe().show()\n",
    "print(\"-\"*50)"
   ]
  },
  {
   "cell_type": "code",
   "execution_count": null,
   "metadata": {},
   "outputs": [
    {
     "name": "stderr",
     "output_type": "stream",
     "text": [
      "                                                                                \r"
     ]
    },
    {
     "name": "stdout",
     "output_type": "stream",
     "text": [
      "+-------------------+----------+---------------+\n",
      "|             Column|Null Count|Null Percentage|\n",
      "+-------------------+----------+---------------+\n",
      "|            FL_DATE|         0|            0.0|\n",
      "|         OP_CARRIER|         0|            0.0|\n",
      "|  OP_CARRIER_FL_NUM|         0|            0.0|\n",
      "|             ORIGIN|         0|            0.0|\n",
      "|               DEST|         0|            0.0|\n",
      "|       CRS_DEP_TIME|         0|            0.0|\n",
      "|           DEP_TIME|    112317|           1.56|\n",
      "|          DEP_DELAY|    117234|           1.63|\n",
      "|           TAXI_OUT|    115830|           1.61|\n",
      "|         WHEELS_OFF|    115829|           1.61|\n",
      "|          WHEELS_ON|    119246|           1.65|\n",
      "|            TAXI_IN|    119246|           1.65|\n",
      "|       CRS_ARR_TIME|         0|            0.0|\n",
      "|           ARR_TIME|    119245|           1.65|\n",
      "|          ARR_DELAY|    137040|            1.9|\n",
      "|          CANCELLED|         0|            0.0|\n",
      "|  CANCELLATION_CODE|   7096862|          98.38|\n",
      "|           DIVERTED|         0|            0.0|\n",
      "|   CRS_ELAPSED_TIME|        10|            0.0|\n",
      "|ACTUAL_ELAPSED_TIME|    134442|           1.86|\n",
      "+-------------------+----------+---------------+\n",
      "only showing top 20 rows\n",
      "\n"
     ]
    }
   ],
   "source": [
    "summary_df_2018 = calculate_null_statistics(spark, df_2018)\n",
    "summary_df_2018.show()"
   ]
  },
  {
   "cell_type": "markdown",
   "metadata": {},
   "source": [
    "### 2019"
   ]
  },
  {
   "cell_type": "code",
   "execution_count": null,
   "metadata": {},
   "outputs": [
    {
     "name": "stderr",
     "output_type": "stream",
     "text": [
      "                                                                                \r"
     ]
    }
   ],
   "source": [
    "df_2019 = spark.read.csv(\"data/2019.csv\", header=True, inferSchema=True)"
   ]
  },
  {
   "cell_type": "code",
   "execution_count": null,
   "metadata": {},
   "outputs": [
    {
     "name": "stdout",
     "output_type": "stream",
     "text": [
      "root\n",
      " |-- FL_DATE: date (nullable = true)\n",
      " |-- OP_UNIQUE_CARRIER: string (nullable = true)\n",
      " |-- OP_CARRIER_FL_NUM: integer (nullable = true)\n",
      " |-- ORIGIN: string (nullable = true)\n",
      " |-- DEST: string (nullable = true)\n",
      " |-- DEP_TIME: integer (nullable = true)\n",
      " |-- DEP_DELAY: double (nullable = true)\n",
      " |-- TAXI_OUT: double (nullable = true)\n",
      " |-- WHEELS_OFF: integer (nullable = true)\n",
      " |-- WHEELS_ON: integer (nullable = true)\n",
      " |-- TAXI_IN: double (nullable = true)\n",
      " |-- ARR_TIME: integer (nullable = true)\n",
      " |-- ARR_DELAY: double (nullable = true)\n",
      " |-- AIR_TIME: double (nullable = true)\n",
      " |-- DISTANCE: double (nullable = true)\n",
      " |-- CARRIER_DELAY: double (nullable = true)\n",
      " |-- WEATHER_DELAY: double (nullable = true)\n",
      " |-- NAS_DELAY: double (nullable = true)\n",
      " |-- SECURITY_DELAY: double (nullable = true)\n",
      " |-- LATE_AIRCRAFT_DELAY: double (nullable = true)\n",
      " |-- _c20: string (nullable = true)\n",
      "\n",
      "--------------------------------------------------\n"
     ]
    },
    {
     "name": "stderr",
     "output_type": "stream",
     "text": [
      "24/12/28 16:02:34 WARN CSVHeaderChecker: CSV header does not conform to the schema.\n",
      " Header: FL_DATE, OP_UNIQUE_CARRIER, OP_CARRIER_FL_NUM, ORIGIN, DEST, DEP_TIME, DEP_DELAY, TAXI_OUT, WHEELS_OFF, WHEELS_ON, TAXI_IN, ARR_TIME, ARR_DELAY, AIR_TIME, DISTANCE, CARRIER_DELAY, WEATHER_DELAY, NAS_DELAY, SECURITY_DELAY, LATE_AIRCRAFT_DELAY, \n",
      " Schema: FL_DATE, OP_UNIQUE_CARRIER, OP_CARRIER_FL_NUM, ORIGIN, DEST, DEP_TIME, DEP_DELAY, TAXI_OUT, WHEELS_OFF, WHEELS_ON, TAXI_IN, ARR_TIME, ARR_DELAY, AIR_TIME, DISTANCE, CARRIER_DELAY, WEATHER_DELAY, NAS_DELAY, SECURITY_DELAY, LATE_AIRCRAFT_DELAY, _c20\n",
      "Expected: _c20 but found: \n",
      "CSV file: file:///Users/yusufarukguld/Desktop/2024%20Fall/YZV411E/Project/data/2019.csv\n"
     ]
    },
    {
     "name": "stdout",
     "output_type": "stream",
     "text": [
      "+----------+-----------------+-----------------+------+----+--------+---------+--------+----------+---------+-------+--------+---------+--------+--------+-------------+-------------+---------+--------------+-------------------+----+\n",
      "|   FL_DATE|OP_UNIQUE_CARRIER|OP_CARRIER_FL_NUM|ORIGIN|DEST|DEP_TIME|DEP_DELAY|TAXI_OUT|WHEELS_OFF|WHEELS_ON|TAXI_IN|ARR_TIME|ARR_DELAY|AIR_TIME|DISTANCE|CARRIER_DELAY|WEATHER_DELAY|NAS_DELAY|SECURITY_DELAY|LATE_AIRCRAFT_DELAY|_c20|\n",
      "+----------+-----------------+-----------------+------+----+--------+---------+--------+----------+---------+-------+--------+---------+--------+--------+-------------+-------------+---------+--------------+-------------------+----+\n",
      "|2019-01-01|               9E|             3280|   GNV| ATL|     601|      1.0|    22.0|       623|      714|    8.0|     722|     -1.0|    51.0|   300.0|         NULL|         NULL|     NULL|          NULL|               NULL|NULL|\n",
      "|2019-01-01|               9E|             3281|   MSP| CVG|    1359|     -5.0|    15.0|      1414|     1629|    4.0|    1633|    -36.0|    75.0|   596.0|         NULL|         NULL|     NULL|          NULL|               NULL|NULL|\n",
      "|2019-01-01|               9E|             3282|   DTW| CVG|    1215|     -5.0|    18.0|      1233|     1323|    6.0|    1329|    -16.0|    50.0|   229.0|         NULL|         NULL|     NULL|          NULL|               NULL|NULL|\n",
      "|2019-01-01|               9E|             3283|   TLH| ATL|    1521|     -6.0|    14.0|      1535|     1618|    7.0|    1625|    -14.0|    43.0|   223.0|         NULL|         NULL|     NULL|          NULL|               NULL|NULL|\n",
      "|2019-01-01|               9E|             3284|   ATL| FSM|    1847|    -15.0|    18.0|      1905|     1935|    5.0|    1940|    -25.0|    90.0|   579.0|         NULL|         NULL|     NULL|          NULL|               NULL|NULL|\n",
      "+----------+-----------------+-----------------+------+----+--------+---------+--------+----------+---------+-------+--------+---------+--------+--------+-------------+-------------+---------+--------------+-------------------+----+\n",
      "only showing top 5 rows\n",
      "\n",
      "--------------------------------------------------\n"
     ]
    },
    {
     "name": "stderr",
     "output_type": "stream",
     "text": [
      "24/12/28 16:02:35 WARN CSVHeaderChecker: CSV header does not conform to the schema.\n",
      " Header: OP_UNIQUE_CARRIER, OP_CARRIER_FL_NUM, ORIGIN, DEST, DEP_TIME, DEP_DELAY, TAXI_OUT, WHEELS_OFF, WHEELS_ON, TAXI_IN, ARR_TIME, ARR_DELAY, AIR_TIME, DISTANCE, CARRIER_DELAY, WEATHER_DELAY, NAS_DELAY, SECURITY_DELAY, LATE_AIRCRAFT_DELAY, \n",
      " Schema: OP_UNIQUE_CARRIER, OP_CARRIER_FL_NUM, ORIGIN, DEST, DEP_TIME, DEP_DELAY, TAXI_OUT, WHEELS_OFF, WHEELS_ON, TAXI_IN, ARR_TIME, ARR_DELAY, AIR_TIME, DISTANCE, CARRIER_DELAY, WEATHER_DELAY, NAS_DELAY, SECURITY_DELAY, LATE_AIRCRAFT_DELAY, _c20\n",
      "Expected: _c20 but found: \n",
      "CSV file: file:///Users/yusufarukguld/Desktop/2024%20Fall/YZV411E/Project/data/2019.csv\n",
      "[Stage 57:==================================================>       (7 + 1) / 8]\r"
     ]
    },
    {
     "name": "stdout",
     "output_type": "stream",
     "text": [
      "+-------+-----------------+------------------+-------+-------+------------------+------------------+------------------+------------------+-----------------+------------------+------------------+-----------------+------------------+-----------------+------------------+------------------+------------------+-------------------+-------------------+----+\n",
      "|summary|OP_UNIQUE_CARRIER| OP_CARRIER_FL_NUM| ORIGIN|   DEST|          DEP_TIME|         DEP_DELAY|          TAXI_OUT|        WHEELS_OFF|        WHEELS_ON|           TAXI_IN|          ARR_TIME|        ARR_DELAY|          AIR_TIME|         DISTANCE|     CARRIER_DELAY|     WEATHER_DELAY|         NAS_DELAY|     SECURITY_DELAY|LATE_AIRCRAFT_DELAY|_c20|\n",
      "+-------+-----------------+------------------+-------+-------+------------------+------------------+------------------+------------------+-----------------+------------------+------------------+-----------------+------------------+-----------------+------------------+------------------+------------------+-------------------+-------------------+----+\n",
      "|  count|          7422037|           7422037|7422037|7422037|           7291951|           7291927|           7288060|           7288060|          7284390|           7284390|           7284391|          7268232|           7268232|          7422037|           1389253|           1389253|           1389253|            1389253|            1389253|   0|\n",
      "|   mean|             NULL|2557.1959405483967|   NULL|   NULL|1334.6063107116327|10.923267333861132|17.389349291855446|1358.2643895632034|1459.031755026845| 7.740775823370248|1462.9553246112132|5.414849168270909|111.57339996852055|800.5436574891771|21.128592128287647|3.8024038817983477|16.587946184028397|0.09608329080448269|  27.40747869538522|NULL|\n",
      "| stddev|             NULL|1799.4134083080887|   NULL|   NULL| 507.1998176152131| 48.95964005305601|10.003981564388752|508.81090719033165|537.8413686710453|6.1943395635975795| 542.4542487586955|51.06665601564479|   70.561225514589|592.5117659721459| 66.10464508123798|32.362972552269376| 39.66439513591164|  3.358346493772678|  53.45619802868787|NULL|\n",
      "|    min|               9E|                 1|    ABE|    ABE|                 1|             -82.0|               1.0|                 1|                1|               1.0|                 1|            -99.0|               4.0|             31.0|               0.0|               0.0|               0.0|                0.0|                0.0|NULL|\n",
      "|    max|               YX|              7933|    YUM|    YUM|              2400|            2710.0|             227.0|              2400|             2400|             316.0|              2400|           2695.0|            1557.0|           5095.0|            2695.0|            1847.0|            1741.0|             1078.0|             2206.0|NULL|\n",
      "+-------+-----------------+------------------+-------+-------+------------------+------------------+------------------+------------------+-----------------+------------------+------------------+-----------------+------------------+-----------------+------------------+------------------+------------------+-------------------+-------------------+----+\n",
      "\n",
      "--------------------------------------------------\n"
     ]
    },
    {
     "name": "stderr",
     "output_type": "stream",
     "text": [
      "                                                                                \r"
     ]
    }
   ],
   "source": [
    "df_2019.printSchema()\n",
    "print(\"-\"*50)\n",
    "df_2019.show(5)\n",
    "print(\"-\"*50)\n",
    "df_2019.describe().show()\n",
    "print(\"-\"*50)"
   ]
  },
  {
   "cell_type": "code",
   "execution_count": null,
   "metadata": {},
   "outputs": [
    {
     "name": "stderr",
     "output_type": "stream",
     "text": [
      "24/12/28 16:03:30 WARN CSVHeaderChecker: CSV header does not conform to the schema.\n",
      " Header: FL_DATE, OP_UNIQUE_CARRIER, OP_CARRIER_FL_NUM, ORIGIN, DEST, DEP_TIME, DEP_DELAY, TAXI_OUT, WHEELS_OFF, WHEELS_ON, TAXI_IN, ARR_TIME, ARR_DELAY, AIR_TIME, DISTANCE, CARRIER_DELAY, WEATHER_DELAY, NAS_DELAY, SECURITY_DELAY, LATE_AIRCRAFT_DELAY, \n",
      " Schema: FL_DATE, OP_UNIQUE_CARRIER, OP_CARRIER_FL_NUM, ORIGIN, DEST, DEP_TIME, DEP_DELAY, TAXI_OUT, WHEELS_OFF, WHEELS_ON, TAXI_IN, ARR_TIME, ARR_DELAY, AIR_TIME, DISTANCE, CARRIER_DELAY, WEATHER_DELAY, NAS_DELAY, SECURITY_DELAY, LATE_AIRCRAFT_DELAY, _c20\n",
      "Expected: _c20 but found: \n",
      "CSV file: file:///Users/yusufarukguld/Desktop/2024%20Fall/YZV411E/Project/data/2019.csv\n",
      "Java HotSpot(TM) 64-Bit Server VM warning: CodeCache is full. Compiler has been disabled.\n",
      "Java HotSpot(TM) 64-Bit Server VM warning: Try increasing the code cache size using -XX:ReservedCodeCacheSize=\n",
      "24/12/28 16:03:55 WARN CSVHeaderChecker: CSV header does not conform to the schema.\n",
      " Header: FL_DATE, OP_UNIQUE_CARRIER, OP_CARRIER_FL_NUM, ORIGIN, DEST, DEP_TIME, DEP_DELAY, TAXI_OUT, WHEELS_OFF, WHEELS_ON, TAXI_IN, ARR_TIME, ARR_DELAY, AIR_TIME, DISTANCE, CARRIER_DELAY, WEATHER_DELAY, NAS_DELAY, SECURITY_DELAY, LATE_AIRCRAFT_DELAY, \n",
      " Schema: FL_DATE, OP_UNIQUE_CARRIER, OP_CARRIER_FL_NUM, ORIGIN, DEST, DEP_TIME, DEP_DELAY, TAXI_OUT, WHEELS_OFF, WHEELS_ON, TAXI_IN, ARR_TIME, ARR_DELAY, AIR_TIME, DISTANCE, CARRIER_DELAY, WEATHER_DELAY, NAS_DELAY, SECURITY_DELAY, LATE_AIRCRAFT_DELAY, _c20\n",
      "Expected: _c20 but found: \n",
      "CSV file: file:///Users/yusufarukguld/Desktop/2024%20Fall/YZV411E/Project/data/2019.csv\n"
     ]
    },
    {
     "name": "stdout",
     "output_type": "stream",
     "text": [
      "CodeCache: size=131072Kb used=51240Kb max_used=51240Kb free=79831Kb\n",
      " bounds [0x000000010a1e8000, 0x000000010d448000, 0x00000001121e8000]\n",
      " total_blobs=17013 nmethods=16060 adapters=864\n",
      " compilation: disabled (not enough contiguous free space left)\n"
     ]
    },
    {
     "name": "stderr",
     "output_type": "stream",
     "text": [
      "                                                                                \r"
     ]
    },
    {
     "name": "stdout",
     "output_type": "stream",
     "text": [
      "+-------------------+----------+---------------+\n",
      "|             Column|Null Count|Null Percentage|\n",
      "+-------------------+----------+---------------+\n",
      "|            FL_DATE|         0|            0.0|\n",
      "|  OP_UNIQUE_CARRIER|         0|            0.0|\n",
      "|  OP_CARRIER_FL_NUM|         0|            0.0|\n",
      "|             ORIGIN|         0|            0.0|\n",
      "|               DEST|         0|            0.0|\n",
      "|           DEP_TIME|    130086|           1.75|\n",
      "|          DEP_DELAY|    130110|           1.75|\n",
      "|           TAXI_OUT|    133977|           1.81|\n",
      "|         WHEELS_OFF|    133977|           1.81|\n",
      "|          WHEELS_ON|    137647|           1.85|\n",
      "|            TAXI_IN|    137647|           1.85|\n",
      "|           ARR_TIME|    137646|           1.85|\n",
      "|          ARR_DELAY|    153805|           2.07|\n",
      "|           AIR_TIME|    153805|           2.07|\n",
      "|           DISTANCE|         0|            0.0|\n",
      "|      CARRIER_DELAY|   6032784|          81.28|\n",
      "|      WEATHER_DELAY|   6032784|          81.28|\n",
      "|          NAS_DELAY|   6032784|          81.28|\n",
      "|     SECURITY_DELAY|   6032784|          81.28|\n",
      "|LATE_AIRCRAFT_DELAY|   6032784|          81.28|\n",
      "+-------------------+----------+---------------+\n",
      "only showing top 20 rows\n",
      "\n"
     ]
    }
   ],
   "source": [
    "summary_df_2019 = calculate_null_statistics(spark, df_2019)\n",
    "summary_df_2019.show()"
   ]
  },
  {
   "cell_type": "markdown",
   "metadata": {},
   "source": [
    "### 2020"
   ]
  },
  {
   "cell_type": "code",
   "execution_count": null,
   "metadata": {},
   "outputs": [
    {
     "name": "stderr",
     "output_type": "stream",
     "text": [
      "                                                                                \r"
     ]
    }
   ],
   "source": [
    "df_2020 = spark.read.csv(\"data/2020.csv\", header=True, inferSchema=True)"
   ]
  },
  {
   "cell_type": "code",
   "execution_count": null,
   "metadata": {},
   "outputs": [
    {
     "name": "stdout",
     "output_type": "stream",
     "text": [
      "root\n",
      " |-- FL_DATE: date (nullable = true)\n",
      " |-- OP_CARRIER: string (nullable = true)\n",
      " |-- OP_CARRIER_FL_NUM: integer (nullable = true)\n",
      " |-- ORIGIN: string (nullable = true)\n",
      " |-- DEST: string (nullable = true)\n",
      " |-- CRS_DEP_TIME: integer (nullable = true)\n",
      " |-- DEP_TIME: double (nullable = true)\n",
      " |-- DEP_DELAY: double (nullable = true)\n",
      " |-- TAXI_OUT: integer (nullable = true)\n",
      " |-- WHEELS_OFF: integer (nullable = true)\n",
      " |-- WHEELS_ON: double (nullable = true)\n",
      " |-- TAXI_IN: integer (nullable = true)\n",
      " |-- CRS_ARR_TIME: double (nullable = true)\n",
      " |-- ARR_TIME: double (nullable = true)\n",
      " |-- ARR_DELAY: double (nullable = true)\n",
      " |-- CANCELLED: double (nullable = true)\n",
      " |-- CANCELLATION_CODE: double (nullable = true)\n",
      " |-- DIVERTED: double (nullable = true)\n",
      " |-- CRS_ELAPSED_TIME: double (nullable = true)\n",
      " |-- ACTUAL_ELAPSED_TIME: double (nullable = true)\n",
      " |-- AIR_TIME: string (nullable = true)\n",
      " |-- DISTANCE: string (nullable = true)\n",
      " |-- CARRIER_DELAY: string (nullable = true)\n",
      " |-- WEATHER_DELAY: string (nullable = true)\n",
      " |-- NAS_DELAY: string (nullable = true)\n",
      " |-- SECURITY_DELAY: string (nullable = true)\n",
      " |-- LATE_AIRCRAFT_DELAY: string (nullable = true)\n",
      " |-- Unnamed: 27: string (nullable = true)\n",
      "\n",
      "--------------------------------------------------\n",
      "+----------+----------+-----------------+------+----+------------+--------+---------+--------+----------+---------+-------+------------+--------+---------+---------+-----------------+--------+----------------+-------------------+--------+--------+-------------+-------------+---------+--------------+-------------------+-----------+\n",
      "|   FL_DATE|OP_CARRIER|OP_CARRIER_FL_NUM|ORIGIN|DEST|CRS_DEP_TIME|DEP_TIME|DEP_DELAY|TAXI_OUT|WHEELS_OFF|WHEELS_ON|TAXI_IN|CRS_ARR_TIME|ARR_TIME|ARR_DELAY|CANCELLED|CANCELLATION_CODE|DIVERTED|CRS_ELAPSED_TIME|ACTUAL_ELAPSED_TIME|AIR_TIME|DISTANCE|CARRIER_DELAY|WEATHER_DELAY|NAS_DELAY|SECURITY_DELAY|LATE_AIRCRAFT_DELAY|Unnamed: 27|\n",
      "+----------+----------+-----------------+------+----+------------+--------+---------+--------+----------+---------+-------+------------+--------+---------+---------+-----------------+--------+----------------+-------------------+--------+--------+-------------+-------------+---------+--------------+-------------------+-----------+\n",
      "|2020-01-01|        WN|             5888|   ONT| SFO|        1851|    41.0|     44.0|    1935|      2049|      4.0|   2053|        68.0|    74.0|    363.0|      8.0|              0.0|    27.0|             0.0|               33.0|    NULL|    NULL|         NULL|         NULL|     NULL|          NULL|               NULL|       NULL|\n",
      "|2020-01-01|        WN|             6276|   ONT| SFO|        1146|    -4.0|     13.0|    1159|      1310|      8.0|   1318|        -2.0|    71.0|    363.0|     NULL|             NULL|    NULL|            NULL|               NULL|    NULL|    NULL|         NULL|         NULL|     NULL|          NULL|               NULL|       NULL|\n",
      "|2020-01-01|        WN|             4598|   ONT| SJC|        2016|    -4.0|      8.0|    2024|      2121|      3.0|   2124|        -6.0|    57.0|    333.0|     NULL|             NULL|    NULL|            NULL|               NULL|    NULL|    NULL|         NULL|         NULL|     NULL|          NULL|               NULL|       NULL|\n",
      "|2020-01-01|        WN|             4761|   ONT| SJC|        1350|    10.0|     10.0|    1400|      1503|      2.0|   1505|        10.0|    63.0|    333.0|     NULL|             NULL|    NULL|            NULL|               NULL|    NULL|    NULL|         NULL|         NULL|     NULL|          NULL|               NULL|       NULL|\n",
      "|2020-01-01|        WN|             5162|   ONT| SJC|         916|     1.0|      6.0|     922|      1019|      4.0|   1023|       -12.0|    57.0|    333.0|     NULL|             NULL|    NULL|            NULL|               NULL|    NULL|    NULL|         NULL|         NULL|     NULL|          NULL|               NULL|       NULL|\n",
      "+----------+----------+-----------------+------+----+------------+--------+---------+--------+----------+---------+-------+------------+--------+---------+---------+-----------------+--------+----------------+-------------------+--------+--------+-------------+-------------+---------+--------------+-------------------+-----------+\n",
      "only showing top 5 rows\n",
      "\n",
      "--------------------------------------------------\n"
     ]
    },
    {
     "name": "stderr",
     "output_type": "stream",
     "text": [
      "[Stage 75:==================================================>       (7 + 1) / 8]\r"
     ]
    },
    {
     "name": "stdout",
     "output_type": "stream",
     "text": [
      "+-------+----------+------------------+-------+-------+------------------+------------------+------------------+------------------+------------------+------------------+-----------------+------------------+------------------+-----------------+------------------+------------------+------------------+-------------------+-------------------+--------+--------+-------------+-------------+---------+--------------+-------------------+-----------+\n",
      "|summary|OP_CARRIER| OP_CARRIER_FL_NUM| ORIGIN|   DEST|      CRS_DEP_TIME|          DEP_TIME|         DEP_DELAY|          TAXI_OUT|        WHEELS_OFF|         WHEELS_ON|          TAXI_IN|      CRS_ARR_TIME|          ARR_TIME|        ARR_DELAY|         CANCELLED| CANCELLATION_CODE|          DIVERTED|   CRS_ELAPSED_TIME|ACTUAL_ELAPSED_TIME|AIR_TIME|DISTANCE|CARRIER_DELAY|WEATHER_DELAY|NAS_DELAY|SECURITY_DELAY|LATE_AIRCRAFT_DELAY|Unnamed: 27|\n",
      "+-------+----------+------------------+-------+-------+------------------+------------------+------------------+------------------+------------------+------------------+-----------------+------------------+------------------+-----------------+------------------+------------------+------------------+-------------------+-------------------+--------+--------+-------------+-------------+---------+--------------+-------------------+-----------+\n",
      "|  count|   2547574|           2547574|2547574|2547574|           2283639|           2283584|           2283167|           2283167|           2282289|           2282289|          2282289|           2278810|           2278810|          2547574|            252402|            252402|            252402|             252402|             252402|       0|       0|            0|            0|        0|             0|                  0|          0|\n",
      "|   mean|      NULL| 2598.623838600959|   NULL|   NULL|1325.0696191473346|3.3959486491409994|15.846957318496631|1349.0638810038863|1472.5196291968282| 6.961088188218056| 1478.03681610874|-4.633768501981297|109.99965639961208|782.0223616664324|25.204392199744852| 3.830258872750612|14.500170363150847|0.09674646001220276| 20.690953320496668|    NULL|    NULL|         NULL|         NULL|     NULL|          NULL|               NULL|       NULL|\n",
      "| stddev|      NULL|1819.8405323239692|   NULL|   NULL| 488.1390094142718| 38.80338294734042|  8.72601734839342| 488.0446641179543|509.30921016347673|5.1988712361294045|512.4247217846389| 40.91383916686595| 68.36833585948284|564.4904865289693|  75.1716484765589|31.989144446559223|32.972045340227055| 3.5249833499766074| 50.927167454029465|    NULL|    NULL|         NULL|         NULL|     NULL|          NULL|               NULL|       NULL|\n",
      "|    min|        9E|                 1|    ABE|    ABE|                 1|             -80.0|               1.0|                 1|                 1|               1.0|                1|            -117.0|               7.0|             29.0|               0.0|               0.0|               0.0|                0.0|                0.0|    NULL|    NULL|         NULL|         NULL|     NULL|          NULL|               NULL|       NULL|\n",
      "|    max|        YX|              9888|    YUM|    YUM|              2400|            2814.0|             189.0|              2400|              2400|             194.0|             2400|            2794.0|             698.0|           5095.0|            2560.0|            1525.0|            1462.0|             1185.0|             2228.0|    NULL|    NULL|         NULL|         NULL|     NULL|          NULL|               NULL|       NULL|\n",
      "+-------+----------+------------------+-------+-------+------------------+------------------+------------------+------------------+------------------+------------------+-----------------+------------------+------------------+-----------------+------------------+------------------+------------------+-------------------+-------------------+--------+--------+-------------+-------------+---------+--------------+-------------------+-----------+\n",
      "\n",
      "--------------------------------------------------\n"
     ]
    },
    {
     "name": "stderr",
     "output_type": "stream",
     "text": [
      "                                                                                \r"
     ]
    }
   ],
   "source": [
    "df_2020.printSchema()\n",
    "print(\"-\"*50)\n",
    "df_2020.show(5)\n",
    "print(\"-\"*50)\n",
    "df_2020.describe().show()\n",
    "print(\"-\"*50)"
   ]
  },
  {
   "cell_type": "code",
   "execution_count": null,
   "metadata": {},
   "outputs": [
    {
     "name": "stderr",
     "output_type": "stream",
     "text": [
      "                                                                                \r"
     ]
    },
    {
     "name": "stdout",
     "output_type": "stream",
     "text": [
      "+-------------------+----------+---------------+\n",
      "|             Column|Null Count|Null Percentage|\n",
      "+-------------------+----------+---------------+\n",
      "|            FL_DATE|         0|            0.0|\n",
      "|         OP_CARRIER|         0|            0.0|\n",
      "|  OP_CARRIER_FL_NUM|         0|            0.0|\n",
      "|             ORIGIN|         0|            0.0|\n",
      "|               DEST|         0|            0.0|\n",
      "|       CRS_DEP_TIME|    263935|          10.36|\n",
      "|           DEP_TIME|    263990|          10.36|\n",
      "|          DEP_DELAY|    264407|          10.38|\n",
      "|           TAXI_OUT|    264407|          10.38|\n",
      "|         WHEELS_OFF|    265285|          10.41|\n",
      "|          WHEELS_ON|    265285|          10.41|\n",
      "|            TAXI_IN|    265285|          10.41|\n",
      "|       CRS_ARR_TIME|    268764|          10.55|\n",
      "|           ARR_TIME|    268764|          10.55|\n",
      "|          ARR_DELAY|         0|            0.0|\n",
      "|          CANCELLED|   2295172|          90.09|\n",
      "|  CANCELLATION_CODE|   2295172|          90.09|\n",
      "|           DIVERTED|   2295172|          90.09|\n",
      "|   CRS_ELAPSED_TIME|   2295172|          90.09|\n",
      "|ACTUAL_ELAPSED_TIME|   2295172|          90.09|\n",
      "+-------------------+----------+---------------+\n",
      "only showing top 20 rows\n",
      "\n"
     ]
    }
   ],
   "source": [
    "summary_df_2020 = calculate_null_statistics(spark, df_2020)\n",
    "summary_df_2020.show()"
   ]
  },
  {
   "cell_type": "markdown",
   "metadata": {},
   "source": [
    "## Data Merging"
   ]
  },
  {
   "cell_type": "code",
   "execution_count": null,
   "metadata": {},
   "outputs": [],
   "source": [
    "df_all = df_2016.union(df_2017).union(df_2018) # 2019 and 2020 are not included. Because 2019 has diffferent columns. 2020 is not added because it is not complete."
   ]
  },
  {
   "cell_type": "code",
   "execution_count": null,
   "metadata": {},
   "outputs": [
    {
     "name": "stdout",
     "output_type": "stream",
     "text": [
      "root\n",
      " |-- FL_DATE: date (nullable = true)\n",
      " |-- OP_CARRIER: string (nullable = true)\n",
      " |-- OP_CARRIER_FL_NUM: integer (nullable = true)\n",
      " |-- ORIGIN: string (nullable = true)\n",
      " |-- DEST: string (nullable = true)\n",
      " |-- CRS_DEP_TIME: integer (nullable = true)\n",
      " |-- DEP_TIME: double (nullable = true)\n",
      " |-- DEP_DELAY: double (nullable = true)\n",
      " |-- TAXI_OUT: double (nullable = true)\n",
      " |-- WHEELS_OFF: double (nullable = true)\n",
      " |-- WHEELS_ON: double (nullable = true)\n",
      " |-- TAXI_IN: double (nullable = true)\n",
      " |-- CRS_ARR_TIME: integer (nullable = true)\n",
      " |-- ARR_TIME: double (nullable = true)\n",
      " |-- ARR_DELAY: double (nullable = true)\n",
      " |-- CANCELLED: double (nullable = true)\n",
      " |-- CANCELLATION_CODE: string (nullable = true)\n",
      " |-- DIVERTED: double (nullable = true)\n",
      " |-- CRS_ELAPSED_TIME: double (nullable = true)\n",
      " |-- ACTUAL_ELAPSED_TIME: double (nullable = true)\n",
      " |-- AIR_TIME: double (nullable = true)\n",
      " |-- DISTANCE: double (nullable = true)\n",
      " |-- CARRIER_DELAY: double (nullable = true)\n",
      " |-- WEATHER_DELAY: double (nullable = true)\n",
      " |-- NAS_DELAY: double (nullable = true)\n",
      " |-- SECURITY_DELAY: double (nullable = true)\n",
      " |-- LATE_AIRCRAFT_DELAY: double (nullable = true)\n",
      " |-- Unnamed: 27: string (nullable = true)\n",
      "\n"
     ]
    }
   ],
   "source": [
    "df_all.printSchema()"
   ]
  },
  {
   "cell_type": "code",
   "execution_count": null,
   "metadata": {},
   "outputs": [
    {
     "name": "stderr",
     "output_type": "stream",
     "text": [
      "Java HotSpot(TM) 64-Bit Server VM warning: CodeCache is full. Compiler has been disabled.\n",
      "Java HotSpot(TM) 64-Bit Server VM warning: Try increasing the code cache size using -XX:ReservedCodeCacheSize=\n",
      "                                                                                \r"
     ]
    },
    {
     "name": "stdout",
     "output_type": "stream",
     "text": [
      "CodeCache: size=131072Kb used=46994Kb max_used=47006Kb free=84077Kb\n",
      " bounds [0x000000010a9e8000, 0x000000010d828000, 0x00000001129e8000]\n",
      " total_blobs=16416 nmethods=15464 adapters=862\n",
      " compilation: disabled (not enough contiguous free space left)\n"
     ]
    },
    {
     "name": "stderr",
     "output_type": "stream",
     "text": [
      "                                                                                \r"
     ]
    }
   ],
   "source": [
    "summary_df_all = calculate_null_statistics(spark, df_all)"
   ]
  },
  {
   "cell_type": "code",
   "execution_count": null,
   "metadata": {},
   "outputs": [
    {
     "name": "stdout",
     "output_type": "stream",
     "text": [
      "+-------------------+----------+---------------+\n",
      "|Column             |Null Count|Null Percentage|\n",
      "+-------------------+----------+---------------+\n",
      "|FL_DATE            |0         |0.0            |\n",
      "|OP_CARRIER         |0         |0.0            |\n",
      "|OP_CARRIER_FL_NUM  |0         |0.0            |\n",
      "|ORIGIN             |0         |0.0            |\n",
      "|DEST               |0         |0.0            |\n",
      "|CRS_DEP_TIME       |0         |0.0            |\n",
      "|DEP_TIME           |256081    |1.38           |\n",
      "|DEP_DELAY          |261033    |1.41           |\n",
      "|TAXI_OUT           |263393    |1.42           |\n",
      "|WHEELS_OFF         |263388    |1.42           |\n",
      "|WHEELS_ON          |271764    |1.47           |\n",
      "|TAXI_IN            |271764    |1.47           |\n",
      "|CRS_ARR_TIME       |0         |0.0            |\n",
      "|ARR_TIME           |271763    |1.47           |\n",
      "|ARR_DELAY          |311764    |1.68           |\n",
      "|CANCELLED          |0         |0.0            |\n",
      "|CANCELLATION_CODE  |18240587  |98.57          |\n",
      "|DIVERTED           |0         |0.0            |\n",
      "|CRS_ELAPSED_TIME   |23        |0.0            |\n",
      "|ACTUAL_ELAPSED_TIME|309166    |1.67           |\n",
      "|AIR_TIME           |309166    |1.67           |\n",
      "|DISTANCE           |0         |0.0            |\n",
      "|CARRIER_DELAY      |15159303  |81.92          |\n",
      "|WEATHER_DELAY      |15159303  |81.92          |\n",
      "|NAS_DELAY          |15159303  |81.92          |\n",
      "|SECURITY_DELAY     |15159303  |81.92          |\n",
      "|LATE_AIRCRAFT_DELAY|15159303  |81.92          |\n",
      "|Unnamed: 27        |18505725  |100.0          |\n",
      "+-------------------+----------+---------------+\n",
      "\n"
     ]
    }
   ],
   "source": [
    "summary_df_all.show(summary_df_all.count(), truncate=0)"
   ]
  },
  {
   "cell_type": "markdown",
   "metadata": {},
   "source": [
    "## Data Preprocessing"
   ]
  },
  {
   "cell_type": "markdown",
   "metadata": {},
   "source": [
    "### Visualizing Missing Values Percentage"
   ]
  },
  {
   "cell_type": "code",
   "execution_count": null,
   "metadata": {},
   "outputs": [
    {
     "data": {
      "image/png": "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",
      "text/plain": [
       "<Figure size 640x480 with 1 Axes>"
      ]
     },
     "metadata": {},
     "output_type": "display_data"
    }
   ],
   "source": [
    "import matplotlib.pyplot as plt\n",
    "\n",
    "# Example: Visualizing null percentages\n",
    "null_counts = summary_df_all.select([\"Column\", \"Null Percentage\"]).toPandas()\n",
    "plt.bar(null_counts[\"Column\"], null_counts[\"Null Percentage\"])\n",
    "plt.xticks(rotation=90)\n",
    "plt.title(\"Null Percentage by Column\")\n",
    "plt.xlabel(\"Column\")\n",
    "plt.ylabel(\"Null Percentage\")\n",
    "plt.grid(axis=\"y\")\n",
    "plt.show()"
   ]
  },
  {
   "cell_type": "markdown",
   "metadata": {},
   "source": [
    "### Filling Missing Values in CANCELLATION_CODE Column"
   ]
  },
  {
   "cell_type": "code",
   "execution_count": null,
   "metadata": {},
   "outputs": [
    {
     "name": "stderr",
     "output_type": "stream",
     "text": [
      "[Stage 70:=====================================>                  (16 + 8) / 24]\r"
     ]
    },
    {
     "name": "stdout",
     "output_type": "stream",
     "text": [
      "+-----------------+\n",
      "|CANCELLATION_CODE|\n",
      "+-----------------+\n",
      "|                B|\n",
      "|                C|\n",
      "|                A|\n",
      "|                D|\n",
      "|             NULL|\n",
      "+-----------------+\n",
      "\n"
     ]
    },
    {
     "name": "stderr",
     "output_type": "stream",
     "text": [
      "                                                                                \r"
     ]
    }
   ],
   "source": [
    "# Inspecting CANCELLATION_CODE\n",
    "df_all.select(\"CANCELLATION_CODE\").distinct().show()"
   ]
  },
  {
   "cell_type": "code",
   "execution_count": null,
   "metadata": {},
   "outputs": [],
   "source": [
    "df_all = df_all.fillna(\"0\", subset=[\"CANCELLATION_CODE\"]) # '0' means it is not cancelled"
   ]
  },
  {
   "cell_type": "markdown",
   "metadata": {},
   "source": [
    "### Filling Missing Values in CARRIER_DELAY, WEATHER_DELAY, NAS_DELAY, SECURITY_DELAY, LATE_AIRCRAFT_DELAY Columns"
   ]
  },
  {
   "cell_type": "code",
   "execution_count": null,
   "metadata": {},
   "outputs": [],
   "source": [
    "df_all = df_all.fillna(0.0, subset=[\"CARRIER_DELAY\", \"WEATHER_DELAY\", \"NAS_DELAY\", \"SECURITY_DELAY\", \"LATE_AIRCRAFT_DELAY\"])"
   ]
  },
  {
   "cell_type": "code",
   "execution_count": null,
   "metadata": {},
   "outputs": [],
   "source": [
    "df_all = df_all.drop(\"Unnamed: 27\")"
   ]
  },
  {
   "cell_type": "markdown",
   "metadata": {},
   "source": [
    "### Dropping Rows with Missing Values"
   ]
  },
  {
   "cell_type": "code",
   "execution_count": null,
   "metadata": {},
   "outputs": [],
   "source": [
    "df_all = df_all.dropna()"
   ]
  },
  {
   "cell_type": "code",
   "execution_count": null,
   "metadata": {},
   "outputs": [
    {
     "name": "stderr",
     "output_type": "stream",
     "text": [
      "[Stage 79:============================================>           (19 + 5) / 24]\r"
     ]
    },
    {
     "name": "stdout",
     "output_type": "stream",
     "text": [
      "+-------------------+----------+---------------+\n",
      "|Column             |Null Count|Null Percentage|\n",
      "+-------------------+----------+---------------+\n",
      "|FL_DATE            |0         |0.0            |\n",
      "|OP_CARRIER         |0         |0.0            |\n",
      "|OP_CARRIER_FL_NUM  |0         |0.0            |\n",
      "|ORIGIN             |0         |0.0            |\n",
      "|DEST               |0         |0.0            |\n",
      "|CRS_DEP_TIME       |0         |0.0            |\n",
      "|DEP_TIME           |0         |0.0            |\n",
      "|DEP_DELAY          |0         |0.0            |\n",
      "|TAXI_OUT           |0         |0.0            |\n",
      "|WHEELS_OFF         |0         |0.0            |\n",
      "|WHEELS_ON          |0         |0.0            |\n",
      "|TAXI_IN            |0         |0.0            |\n",
      "|CRS_ARR_TIME       |0         |0.0            |\n",
      "|ARR_TIME           |0         |0.0            |\n",
      "|ARR_DELAY          |0         |0.0            |\n",
      "|CANCELLED          |0         |0.0            |\n",
      "|CANCELLATION_CODE  |0         |0.0            |\n",
      "|DIVERTED           |0         |0.0            |\n",
      "|CRS_ELAPSED_TIME   |0         |0.0            |\n",
      "|ACTUAL_ELAPSED_TIME|0         |0.0            |\n",
      "|AIR_TIME           |0         |0.0            |\n",
      "|DISTANCE           |0         |0.0            |\n",
      "|CARRIER_DELAY      |0         |0.0            |\n",
      "|WEATHER_DELAY      |0         |0.0            |\n",
      "|NAS_DELAY          |0         |0.0            |\n",
      "|SECURITY_DELAY     |0         |0.0            |\n",
      "|LATE_AIRCRAFT_DELAY|0         |0.0            |\n",
      "+-------------------+----------+---------------+\n",
      "\n"
     ]
    },
    {
     "name": "stderr",
     "output_type": "stream",
     "text": [
      "                                                                                \r"
     ]
    }
   ],
   "source": [
    "summary_df_all2 = calculate_null_statistics(spark, df_all)\n",
    "summary_df_all2.show(summary_df_all2.count(), truncate=0)"
   ]
  },
  {
   "cell_type": "code",
   "execution_count": null,
   "metadata": {},
   "outputs": [
    {
     "name": "stderr",
     "output_type": "stream",
     "text": [
      "[Stage 88:=====================================>                  (16 + 8) / 24]\r"
     ]
    },
    {
     "name": "stdout",
     "output_type": "stream",
     "text": [
      "Number of rows in the dataset:  18189372\n",
      "Number of columns in the dataset:  27\n"
     ]
    },
    {
     "name": "stderr",
     "output_type": "stream",
     "text": [
      "                                                                                \r"
     ]
    }
   ],
   "source": [
    "print(\"Number of rows in the dataset: \", df_all.count())\n",
    "print(\"Number of columns in the dataset: \", len(df_all.columns))"
   ]
  },
  {
   "cell_type": "code",
   "execution_count": null,
   "metadata": {},
   "outputs": [],
   "source": [
    "df = df_all"
   ]
  },
  {
   "cell_type": "markdown",
   "metadata": {},
   "source": [
    "## Data Visualization and Analysis"
   ]
  },
  {
   "cell_type": "code",
   "execution_count": null,
   "metadata": {},
   "outputs": [
    {
     "name": "stdout",
     "output_type": "stream",
     "text": [
      "root\n",
      " |-- FL_DATE: date (nullable = true)\n",
      " |-- OP_CARRIER: string (nullable = true)\n",
      " |-- OP_CARRIER_FL_NUM: integer (nullable = true)\n",
      " |-- ORIGIN: string (nullable = true)\n",
      " |-- DEST: string (nullable = true)\n",
      " |-- CRS_DEP_TIME: integer (nullable = true)\n",
      " |-- DEP_TIME: double (nullable = true)\n",
      " |-- DEP_DELAY: double (nullable = true)\n",
      " |-- TAXI_OUT: double (nullable = true)\n",
      " |-- WHEELS_OFF: double (nullable = true)\n",
      " |-- WHEELS_ON: double (nullable = true)\n",
      " |-- TAXI_IN: double (nullable = true)\n",
      " |-- CRS_ARR_TIME: integer (nullable = true)\n",
      " |-- ARR_TIME: double (nullable = true)\n",
      " |-- ARR_DELAY: double (nullable = true)\n",
      " |-- CANCELLED: double (nullable = true)\n",
      " |-- CANCELLATION_CODE: string (nullable = false)\n",
      " |-- DIVERTED: double (nullable = true)\n",
      " |-- CRS_ELAPSED_TIME: double (nullable = true)\n",
      " |-- ACTUAL_ELAPSED_TIME: double (nullable = true)\n",
      " |-- AIR_TIME: double (nullable = true)\n",
      " |-- DISTANCE: double (nullable = true)\n",
      " |-- CARRIER_DELAY: double (nullable = false)\n",
      " |-- WEATHER_DELAY: double (nullable = false)\n",
      " |-- NAS_DELAY: double (nullable = false)\n",
      " |-- SECURITY_DELAY: double (nullable = false)\n",
      " |-- LATE_AIRCRAFT_DELAY: double (nullable = false)\n",
      " |-- AIRLINE_NAME: string (nullable = true)\n",
      "\n"
     ]
    }
   ],
   "source": [
    "df.printSchema()"
   ]
  },
  {
   "cell_type": "code",
   "execution_count": null,
   "metadata": {},
   "outputs": [
    {
     "name": "stderr",
     "output_type": "stream",
     "text": [
      "[Stage 374:====================================================>  (23 + 1) / 24]\r"
     ]
    },
    {
     "name": "stdout",
     "output_type": "stream",
     "text": [
      "+------+----+-------------------+-----------------+\n",
      "|ORIGIN|DEST|avg_departure_delay|avg_arrival_delay|\n",
      "+------+----+-------------------+-----------------+\n",
      "|   LAX| SFO|              16.81|            14.42|\n",
      "|   SFO| LAX|               12.3|            12.79|\n",
      "|   ORD| LGA|              15.49|            12.71|\n",
      "|   SFO| SEA|              12.28|            10.88|\n",
      "|   SEA| SFO|              13.91|            10.29|\n",
      "|   LAS| LAX|              10.09|             8.93|\n",
      "|   ORD| LAX|               14.4|             6.97|\n",
      "|   LAX| LAS|               9.84|             6.91|\n",
      "|   ATL| LGA|              14.07|             6.27|\n",
      "|   LGA| ORD|              12.75|             5.82|\n",
      "|   ATL| MCO|               9.65|             5.32|\n",
      "|   LAX| JFK|              13.44|             4.25|\n",
      "|   SEA| LAX|               6.27|             4.12|\n",
      "|   LAX| SEA|               6.19|             3.25|\n",
      "|   MCO| ATL|               7.26|             2.02|\n",
      "|   LAX| ORD|               9.34|              2.0|\n",
      "|   LGA| ATL|              13.68|              1.5|\n",
      "|   OGG| HNL|              -0.32|             0.88|\n",
      "|   JFK| LAX|               9.24|            -0.35|\n",
      "|   HNL| OGG|              -1.44|             -0.5|\n",
      "+------+----+-------------------+-----------------+\n",
      "\n"
     ]
    },
    {
     "name": "stderr",
     "output_type": "stream",
     "text": [
      "                                                                                \r"
     ]
    }
   ],
   "source": [
    "# Get top 20 routes with counts\n",
    "top_20_routes = df.groupBy(\"ORIGIN\", \"DEST\") \\\n",
    "    .count() \\\n",
    "    .orderBy(\"count\", ascending=False) \\\n",
    "    .limit(20)\n",
    "\n",
    "# Join the original dataframe with the top 20 routes\n",
    "joined_df = df.join(top_20_routes, on=[\"ORIGIN\", \"DEST\"], how=\"inner\")\n",
    "\n",
    "# Calculate average departure and arrival delays for top 20 routes\n",
    "avg_delays = joined_df.groupBy(\"ORIGIN\", \"DEST\") \\\n",
    "    .agg(\n",
    "        round(avg(\"DEP_DELAY\"), 2).alias(\"avg_departure_delay\"),\n",
    "        round(avg(\"ARR_DELAY\"), 2).alias(\"avg_arrival_delay\")    ) \\\n",
    "    .orderBy(\"avg_arrival_delay\", ascending=False)\n",
    "\n",
    "avg_delays.show()"
   ]
  },
  {
   "cell_type": "markdown",
   "metadata": {},
   "source": [
    "### Top 20 Routes by Number of Flights in 2016-2018"
   ]
  },
  {
   "cell_type": "code",
   "execution_count": null,
   "metadata": {},
   "outputs": [
    {
     "name": "stderr",
     "output_type": "stream",
     "text": [
      "                                                                                \r"
     ]
    },
    {
     "data": {
      "image/png": "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",
      "text/plain": [
       "<Figure size 1000x600 with 1 Axes>"
      ]
     },
     "metadata": {},
     "output_type": "display_data"
    }
   ],
   "source": [
    "# Plot the top 20 routes by number of flights\n",
    "top_20_route_pd = top_20_routes.toPandas()\n",
    "plt.figure(figsize=(10, 6))\n",
    "plt.barh(top_20_route_pd[\"ORIGIN\"] + \" - \" + top_20_route_pd[\"DEST\"], top_20_route_pd[\"count\"])\n",
    "plt.xlabel(\"Number of Flights\")\n",
    "plt.ylabel(\"Route\")\n",
    "plt.title(\"Top 20 Routes by Number of Flights İN 2016-2018\")\n",
    "plt.grid(axis=\"x\")\n",
    "plt.show()"
   ]
  },
  {
   "cell_type": "markdown",
   "metadata": {},
   "source": [
    "### Average Departure Delay by Route (Top 20) in 2016-2018"
   ]
  },
  {
   "cell_type": "code",
   "execution_count": null,
   "metadata": {},
   "outputs": [
    {
     "data": {
      "image/png": "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",
      "text/plain": [
       "<Figure size 1000x600 with 1 Axes>"
      ]
     },
     "metadata": {},
     "output_type": "display_data"
    }
   ],
   "source": [
    "plt.figure(figsize=(10, 6))\n",
    "plt.bar(avg_delays.toPandas()[\"ORIGIN\"] + \" - \" + avg_delays.toPandas()[\"DEST\"],\n",
    "        avg_delays.toPandas()[\"avg_departure_delay\"])\n",
    "plt.xticks(rotation=90)\n",
    "plt.title(\"Average Departure Delay by Route (Top 20) in 2016-2018\")\n",
    "plt.xlabel(\"Route\")\n",
    "plt.ylabel(\"Average Departure Delay\")\n",
    "plt.grid(axis=\"y\") \n",
    "plt.show()\n"
   ]
  },
  {
   "cell_type": "markdown",
   "metadata": {},
   "source": [
    "### Average Arrival Delay by Route (Top 20) in 2016-2018"
   ]
  },
  {
   "cell_type": "code",
   "execution_count": null,
   "metadata": {},
   "outputs": [
    {
     "data": {
      "image/png": "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